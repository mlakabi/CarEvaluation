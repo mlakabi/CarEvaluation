{
 "cells": [
  {
   "cell_type": "code",
   "execution_count": 2,
   "metadata": {},
   "outputs": [],
   "source": [
    "import numpy as np\n",
    "import matplotlib.pyplot as plt\n",
    "import pandas as pd\n",
    "import seaborn as sns\n",
    "%matplotlib inline "
   ]
  },
  {
   "cell_type": "code",
   "execution_count": 3,
   "metadata": {},
   "outputs": [],
   "source": [
    "#Load data + adding column labels"
   ]
  },
  {
   "cell_type": "code",
   "execution_count": 76,
   "metadata": {},
   "outputs": [
    {
     "name": "stdout",
     "output_type": "stream",
     "text": [
      "     Buy_Price Maint_Price  Doors Passengers  Trunk Safety Condition\n",
      "0        vhigh       vhigh      2          2  small    med     unacc\n",
      "1        vhigh       vhigh      2          2  small   high     unacc\n",
      "2        vhigh       vhigh      2          2    med    low     unacc\n",
      "3        vhigh       vhigh      2          2    med    med     unacc\n",
      "4        vhigh       vhigh      2          2    med   high     unacc\n",
      "5        vhigh       vhigh      2          2    big    low     unacc\n",
      "6        vhigh       vhigh      2          2    big    med     unacc\n",
      "7        vhigh       vhigh      2          2    big   high     unacc\n",
      "8        vhigh       vhigh      2          4  small    low     unacc\n",
      "9        vhigh       vhigh      2          4  small    med     unacc\n",
      "10       vhigh       vhigh      2          4  small   high     unacc\n",
      "11       vhigh       vhigh      2          4    med    low     unacc\n",
      "12       vhigh       vhigh      2          4    med    med     unacc\n",
      "13       vhigh       vhigh      2          4    med   high     unacc\n",
      "14       vhigh       vhigh      2          4    big    low     unacc\n",
      "15       vhigh       vhigh      2          4    big    med     unacc\n",
      "16       vhigh       vhigh      2          4    big   high     unacc\n",
      "17       vhigh       vhigh      2       more  small    low     unacc\n",
      "18       vhigh       vhigh      2       more  small    med     unacc\n",
      "19       vhigh       vhigh      2       more  small   high     unacc\n",
      "20       vhigh       vhigh      2       more    med    low     unacc\n",
      "21       vhigh       vhigh      2       more    med    med     unacc\n",
      "22       vhigh       vhigh      2       more    med   high     unacc\n",
      "23       vhigh       vhigh      2       more    big    low     unacc\n",
      "24       vhigh       vhigh      2       more    big    med     unacc\n",
      "25       vhigh       vhigh      2       more    big   high     unacc\n",
      "26       vhigh       vhigh      3          2  small    low     unacc\n",
      "27       vhigh       vhigh      3          2  small    med     unacc\n",
      "28       vhigh       vhigh      3          2  small   high     unacc\n",
      "29       vhigh       vhigh      3          2    med    low     unacc\n",
      "...        ...         ...    ...        ...    ...    ...       ...\n",
      "1697       low         low      4       more    big    low     unacc\n",
      "1698       low         low      4       more    big    med      good\n",
      "1699       low         low      4       more    big   high     vgood\n",
      "1700       low         low  5more          2  small    low     unacc\n",
      "1701       low         low  5more          2  small    med     unacc\n",
      "1702       low         low  5more          2  small   high     unacc\n",
      "1703       low         low  5more          2    med    low     unacc\n",
      "1704       low         low  5more          2    med    med     unacc\n",
      "1705       low         low  5more          2    med   high     unacc\n",
      "1706       low         low  5more          2    big    low     unacc\n",
      "1707       low         low  5more          2    big    med     unacc\n",
      "1708       low         low  5more          2    big   high     unacc\n",
      "1709       low         low  5more          4  small    low     unacc\n",
      "1710       low         low  5more          4  small    med       acc\n",
      "1711       low         low  5more          4  small   high      good\n",
      "1712       low         low  5more          4    med    low     unacc\n",
      "1713       low         low  5more          4    med    med      good\n",
      "1714       low         low  5more          4    med   high     vgood\n",
      "1715       low         low  5more          4    big    low     unacc\n",
      "1716       low         low  5more          4    big    med      good\n",
      "1717       low         low  5more          4    big   high     vgood\n",
      "1718       low         low  5more       more  small    low     unacc\n",
      "1719       low         low  5more       more  small    med       acc\n",
      "1720       low         low  5more       more  small   high      good\n",
      "1721       low         low  5more       more    med    low     unacc\n",
      "1722       low         low  5more       more    med    med      good\n",
      "1723       low         low  5more       more    med   high     vgood\n",
      "1724       low         low  5more       more    big    low     unacc\n",
      "1725       low         low  5more       more    big    med      good\n",
      "1726       low         low  5more       more    big   high     vgood\n",
      "\n",
      "[1727 rows x 7 columns]\n"
     ]
    }
   ],
   "source": [
    "filename='car_data.csv'\n",
    "df = pd.read_csv(filename)\n",
    "df.columns = ['Buy_Price', \"Maint_Price\", 'Doors', 'Passengers', 'Trunk', 'Safety', 'Condition']\n",
    "print (df)"
   ]
  },
  {
   "cell_type": "code",
   "execution_count": 5,
   "metadata": {},
   "outputs": [],
   "source": [
    "## Check for missing data"
   ]
  },
  {
   "cell_type": "code",
   "execution_count": 6,
   "metadata": {},
   "outputs": [
    {
     "data": {
      "text/html": [
       "<div>\n",
       "<style scoped>\n",
       "    .dataframe tbody tr th:only-of-type {\n",
       "        vertical-align: middle;\n",
       "    }\n",
       "\n",
       "    .dataframe tbody tr th {\n",
       "        vertical-align: top;\n",
       "    }\n",
       "\n",
       "    .dataframe thead th {\n",
       "        text-align: right;\n",
       "    }\n",
       "</style>\n",
       "<table border=\"1\" class=\"dataframe\">\n",
       "  <thead>\n",
       "    <tr style=\"text-align: right;\">\n",
       "      <th></th>\n",
       "      <th>Buy_Price</th>\n",
       "      <th>Maint_Price</th>\n",
       "      <th>Doors</th>\n",
       "      <th>Passengers</th>\n",
       "      <th>Trunk</th>\n",
       "      <th>Safety</th>\n",
       "      <th>Condition</th>\n",
       "    </tr>\n",
       "  </thead>\n",
       "  <tbody>\n",
       "    <tr>\n",
       "      <th>count</th>\n",
       "      <td>1727</td>\n",
       "      <td>1727</td>\n",
       "      <td>1727</td>\n",
       "      <td>1727</td>\n",
       "      <td>1727</td>\n",
       "      <td>1727</td>\n",
       "      <td>1727</td>\n",
       "    </tr>\n",
       "    <tr>\n",
       "      <th>unique</th>\n",
       "      <td>4</td>\n",
       "      <td>4</td>\n",
       "      <td>4</td>\n",
       "      <td>3</td>\n",
       "      <td>3</td>\n",
       "      <td>3</td>\n",
       "      <td>4</td>\n",
       "    </tr>\n",
       "    <tr>\n",
       "      <th>top</th>\n",
       "      <td>med</td>\n",
       "      <td>med</td>\n",
       "      <td>3</td>\n",
       "      <td>more</td>\n",
       "      <td>med</td>\n",
       "      <td>med</td>\n",
       "      <td>unacc</td>\n",
       "    </tr>\n",
       "    <tr>\n",
       "      <th>freq</th>\n",
       "      <td>432</td>\n",
       "      <td>432</td>\n",
       "      <td>432</td>\n",
       "      <td>576</td>\n",
       "      <td>576</td>\n",
       "      <td>576</td>\n",
       "      <td>1209</td>\n",
       "    </tr>\n",
       "  </tbody>\n",
       "</table>\n",
       "</div>"
      ],
      "text/plain": [
       "       Buy_Price Maint_Price Doors Passengers Trunk Safety Condition\n",
       "count       1727        1727  1727       1727  1727   1727      1727\n",
       "unique         4           4     4          3     3      3         4\n",
       "top          med         med     3       more   med    med     unacc\n",
       "freq         432         432   432        576   576    576      1209"
      ]
     },
     "execution_count": 6,
     "metadata": {},
     "output_type": "execute_result"
    }
   ],
   "source": [
    "df.describe()"
   ]
  },
  {
   "cell_type": "code",
   "execution_count": 7,
   "metadata": {},
   "outputs": [
    {
     "name": "stdout",
     "output_type": "stream",
     "text": [
      "<class 'pandas.core.frame.DataFrame'>\n",
      "RangeIndex: 1727 entries, 0 to 1726\n",
      "Data columns (total 7 columns):\n",
      "Buy_Price      1727 non-null object\n",
      "Maint_Price    1727 non-null object\n",
      "Doors          1727 non-null object\n",
      "Passengers     1727 non-null object\n",
      "Trunk          1727 non-null object\n",
      "Safety         1727 non-null object\n",
      "Condition      1727 non-null object\n",
      "dtypes: object(7)\n",
      "memory usage: 94.5+ KB\n"
     ]
    }
   ],
   "source": [
    "df.info()"
   ]
  },
  {
   "cell_type": "code",
   "execution_count": 8,
   "metadata": {},
   "outputs": [],
   "source": [
    "### Data Visualization & Exploration "
   ]
  },
  {
   "cell_type": "code",
   "execution_count": 9,
   "metadata": {},
   "outputs": [],
   "source": [
    "## Questions\n",
    "# 1) What seems to be the biggest factor in determining the value of a used car?\n",
    "        # Condition\n",
    "# 2) Can you count something interesting?\n",
    "        # Condition seems to be the driving factor for the data\n",
    "# 3)Can you find trends (e.g. high, low, increasing, decreasing, anomalies)?\n",
    "    # There are many trends in regards to condition\n",
    "# 4)Can you make a bar plot or a histogram?\n",
    "     # Yes\n",
    "# 5)Can you compare two related quantities?\n",
    "    # Yes\n",
    "# 6)Can you make a scatterplot?\n",
    "    # No\n",
    "# 7)Can you make a time-series plot?\n",
    "    # NO \n"
   ]
  },
  {
   "cell_type": "code",
   "execution_count": 10,
   "metadata": {},
   "outputs": [
    {
     "data": {
      "image/png": "[encoded data removed]",
      "text/plain": [
       "<Figure size 432x288 with 1 Axes>"
      ]
     },
     "metadata": {},
     "output_type": "display_data"
    }
   ],
   "source": [
    "SM = sns.countplot(x=\"Safety\",hue=\"Maint_Price\",  data=df)"
   ]
  },
  {
   "cell_type": "code",
   "execution_count": 11,
   "metadata": {},
   "outputs": [],
   "source": [
    "SB = pd.crosstab(index=df[\"Safety\"], \n",
    "                          columns=df[\"Buy_Price\"])"
   ]
  },
  {
   "cell_type": "code",
   "execution_count": 12,
   "metadata": {},
   "outputs": [
    {
     "data": {
      "text/html": [
       "<div>\n",
       "<style scoped>\n",
       "    .dataframe tbody tr th:only-of-type {\n",
       "        vertical-align: middle;\n",
       "    }\n",
       "\n",
       "    .dataframe tbody tr th {\n",
       "        vertical-align: top;\n",
       "    }\n",
       "\n",
       "    .dataframe thead th {\n",
       "        text-align: right;\n",
       "    }\n",
       "</style>\n",
       "<table border=\"1\" class=\"dataframe\">\n",
       "  <thead>\n",
       "    <tr style=\"text-align: right;\">\n",
       "      <th>Buy_Price</th>\n",
       "      <th>high</th>\n",
       "      <th>low</th>\n",
       "      <th>med</th>\n",
       "      <th>vhigh</th>\n",
       "    </tr>\n",
       "    <tr>\n",
       "      <th>Safety</th>\n",
       "      <th></th>\n",
       "      <th></th>\n",
       "      <th></th>\n",
       "      <th></th>\n",
       "    </tr>\n",
       "  </thead>\n",
       "  <tbody>\n",
       "    <tr>\n",
       "      <th>high</th>\n",
       "      <td>144</td>\n",
       "      <td>144</td>\n",
       "      <td>144</td>\n",
       "      <td>144</td>\n",
       "    </tr>\n",
       "    <tr>\n",
       "      <th>low</th>\n",
       "      <td>144</td>\n",
       "      <td>144</td>\n",
       "      <td>144</td>\n",
       "      <td>143</td>\n",
       "    </tr>\n",
       "    <tr>\n",
       "      <th>med</th>\n",
       "      <td>144</td>\n",
       "      <td>144</td>\n",
       "      <td>144</td>\n",
       "      <td>144</td>\n",
       "    </tr>\n",
       "  </tbody>\n",
       "</table>\n",
       "</div>"
      ],
      "text/plain": [
       "Buy_Price  high  low  med  vhigh\n",
       "Safety                          \n",
       "high        144  144  144    144\n",
       "low         144  144  144    143\n",
       "med         144  144  144    144"
      ]
     },
     "execution_count": 12,
     "metadata": {},
     "output_type": "execute_result"
    }
   ],
   "source": [
    "SB"
   ]
  },
  {
   "cell_type": "code",
   "execution_count": 13,
   "metadata": {},
   "outputs": [
    {
     "data": {
      "image/png": "[encoded data removed]",
      "text/plain": [
       "<Figure size 432x288 with 1 Axes>"
      ]
     },
     "metadata": {},
     "output_type": "display_data"
    }
   ],
   "source": [
    "MB = sns.countplot(x=\"Maint_Price\",hue=\"Buy_Price\",  data=df)"
   ]
  },
  {
   "cell_type": "code",
   "execution_count": 14,
   "metadata": {},
   "outputs": [],
   "source": [
    "### The higher the maintance price the worse the condiiton "
   ]
  },
  {
   "cell_type": "code",
   "execution_count": 15,
   "metadata": {},
   "outputs": [
    {
     "data": {
      "image/png": "[encoded data removed]",
      "text/plain": [
       "<Figure size 432x288 with 1 Axes>"
      ]
     },
     "metadata": {},
     "output_type": "display_data"
    }
   ],
   "source": [
    "MC = sns.countplot(x=\"Maint_Price\",hue=\"Condition\",  data=df)"
   ]
  },
  {
   "cell_type": "code",
   "execution_count": 16,
   "metadata": {},
   "outputs": [],
   "source": [
    "### We see an inverse relationship between the price of a car and its condition "
   ]
  },
  {
   "cell_type": "code",
   "execution_count": 17,
   "metadata": {},
   "outputs": [
    {
     "data": {
      "image/png": "[encoded data removed]",
      "text/plain": [
       "<Figure size 432x288 with 1 Axes>"
      ]
     },
     "metadata": {},
     "output_type": "display_data"
    }
   ],
   "source": [
    "BC = sns.countplot(x=\"Buy_Price\",hue=\"Condition\",  data=df)"
   ]
  },
  {
   "cell_type": "code",
   "execution_count": 18,
   "metadata": {},
   "outputs": [],
   "source": [
    "### We can see that on average cars with 5 or more doors were safer"
   ]
  },
  {
   "cell_type": "code",
   "execution_count": 19,
   "metadata": {},
   "outputs": [
    {
     "data": {
      "image/png": "[encoded data removed]",
      "text/plain": [
       "<Figure size 432x288 with 1 Axes>"
      ]
     },
     "metadata": {},
     "output_type": "display_data"
    }
   ],
   "source": [
    "DC = sns.countplot(x=\"Doors\",hue=\"Condition\",  data=df)"
   ]
  },
  {
   "cell_type": "code",
   "execution_count": 20,
   "metadata": {},
   "outputs": [],
   "source": [
    "### Cars that are safer are usually in bettter conditions "
   ]
  },
  {
   "cell_type": "code",
   "execution_count": 21,
   "metadata": {},
   "outputs": [
    {
     "data": {
      "image/png": "[encoded data removed]",
      "text/plain": [
       "<Figure size 432x288 with 1 Axes>"
      ]
     },
     "metadata": {},
     "output_type": "display_data"
    }
   ],
   "source": [
    "SC = sns.countplot(x=\"Safety\",hue=\"Condition\",  data=df)"
   ]
  },
  {
   "cell_type": "code",
   "execution_count": 22,
   "metadata": {},
   "outputs": [],
   "source": [
    "###  Bigger cars that hold more passengers and have more doors are in better condition"
   ]
  },
  {
   "cell_type": "code",
   "execution_count": 23,
   "metadata": {},
   "outputs": [
    {
     "data": {
      "image/png": "[encoded data removed]",
      "text/plain": [
       "<Figure size 432x288 with 1 Axes>"
      ]
     },
     "metadata": {},
     "output_type": "display_data"
    }
   ],
   "source": [
    "PC = sns.countplot(x=\"Passengers\",hue=\"Condition\",  data=df)"
   ]
  },
  {
   "cell_type": "code",
   "execution_count": 24,
   "metadata": {},
   "outputs": [
    {
     "data": {
      "image/png": "[encoded data removed]",
      "text/plain": [
       "<Figure size 432x288 with 1 Axes>"
      ]
     },
     "metadata": {},
     "output_type": "display_data"
    }
   ],
   "source": [
    "TC = sns.countplot(x=\"Trunk\",hue=\"Condition\",  data=df)"
   ]
  },
  {
   "cell_type": "code",
   "execution_count": 25,
   "metadata": {},
   "outputs": [],
   "source": [
    "## No relationship between doors and Safety"
   ]
  },
  {
   "cell_type": "code",
   "execution_count": 26,
   "metadata": {},
   "outputs": [
    {
     "data": {
      "image/png": "[encoded data removed]",
      "text/plain": [
       "<Figure size 432x288 with 1 Axes>"
      ]
     },
     "metadata": {},
     "output_type": "display_data"
    }
   ],
   "source": [
    "SD = sns.countplot(x=\"Safety\",hue=\"Doors\",  data=df)"
   ]
  },
  {
   "cell_type": "code",
   "execution_count": 82,
   "metadata": {},
   "outputs": [
    {
     "data": {
      "image/png": "[encoded data removed]",
      "text/plain": [
       "<Figure size 432x288 with 1 Axes>"
      ]
     },
     "metadata": {},
     "output_type": "display_data"
    }
   ],
   "source": [
    "SD = sns.countplot(x=\"Safety\",hue=\"Maint_Price\",  data=df)"
   ]
  },
  {
   "cell_type": "code",
   "execution_count": 79,
   "metadata": {},
   "outputs": [],
   "source": [
    "df['Buy_Price'] = df['Buy_Price'].map({'low': 1, 'med': 2, 'high' : 3, 'vhigh': 4})\n",
    "df['Maint_Price'] = df['Maint_Price'].map({'low': 1, 'med': 2, 'high' : 3, 'vhigh': 4})\n",
    "df['Safety'] = df['Safety'].map({'low': 1, 'med': 2, 'high' : 3})\n",
    "df['Trunk'] = df['Trunk'].map({'small': 1, 'med': 2, 'big' : 3})\n",
    "df['Passengers'] = df['Passengers'].map({'2': 2, '4' : 4, 'more' : 5})\n",
    "df['Doors'] = df['Doors'].map({'2': 2, '3':3, '4':4, '5more' : 5})\n",
    "df['Condition'] = df['Condition'].map({'unacc': 1, 'acc': 2, 'good' : 3, 'vgood': 4})"
   ]
  },
  {
   "cell_type": "code",
   "execution_count": 80,
   "metadata": {},
   "outputs": [
    {
     "name": "stdout",
     "output_type": "stream",
     "text": [
      "      Buy_Price  Maint_Price  Doors  Passengers  Trunk  Safety  Condition\n",
      "0             4            4      2           2      1       2          1\n",
      "1             4            4      2           2      1       3          1\n",
      "2             4            4      2           2      2       1          1\n",
      "3             4            4      2           2      2       2          1\n",
      "4             4            4      2           2      2       3          1\n",
      "5             4            4      2           2      3       1          1\n",
      "6             4            4      2           2      3       2          1\n",
      "7             4            4      2           2      3       3          1\n",
      "8             4            4      2           4      1       1          1\n",
      "9             4            4      2           4      1       2          1\n",
      "10            4            4      2           4      1       3          1\n",
      "11            4            4      2           4      2       1          1\n",
      "12            4            4      2           4      2       2          1\n",
      "13            4            4      2           4      2       3          1\n",
      "14            4            4      2           4      3       1          1\n",
      "15            4            4      2           4      3       2          1\n",
      "16            4            4      2           4      3       3          1\n",
      "17            4            4      2           5      1       1          1\n",
      "18            4            4      2           5      1       2          1\n",
      "19            4            4      2           5      1       3          1\n",
      "20            4            4      2           5      2       1          1\n",
      "21            4            4      2           5      2       2          1\n",
      "22            4            4      2           5      2       3          1\n",
      "23            4            4      2           5      3       1          1\n",
      "24            4            4      2           5      3       2          1\n",
      "25            4            4      2           5      3       3          1\n",
      "26            4            4      3           2      1       1          1\n",
      "27            4            4      3           2      1       2          1\n",
      "28            4            4      3           2      1       3          1\n",
      "29            4            4      3           2      2       1          1\n",
      "...         ...          ...    ...         ...    ...     ...        ...\n",
      "1697          1            1      4           5      3       1          1\n",
      "1698          1            1      4           5      3       2          3\n",
      "1699          1            1      4           5      3       3          4\n",
      "1700          1            1      5           2      1       1          1\n",
      "1701          1            1      5           2      1       2          1\n",
      "1702          1            1      5           2      1       3          1\n",
      "1703          1            1      5           2      2       1          1\n",
      "1704          1            1      5           2      2       2          1\n",
      "1705          1            1      5           2      2       3          1\n",
      "1706          1            1      5           2      3       1          1\n",
      "1707          1            1      5           2      3       2          1\n",
      "1708          1            1      5           2      3       3          1\n",
      "1709          1            1      5           4      1       1          1\n",
      "1710          1            1      5           4      1       2          2\n",
      "1711          1            1      5           4      1       3          3\n",
      "1712          1            1      5           4      2       1          1\n",
      "1713          1            1      5           4      2       2          3\n",
      "1714          1            1      5           4      2       3          4\n",
      "1715          1            1      5           4      3       1          1\n",
      "1716          1            1      5           4      3       2          3\n",
      "1717          1            1      5           4      3       3          4\n",
      "1718          1            1      5           5      1       1          1\n",
      "1719          1            1      5           5      1       2          2\n",
      "1720          1            1      5           5      1       3          3\n",
      "1721          1            1      5           5      2       1          1\n",
      "1722          1            1      5           5      2       2          3\n",
      "1723          1            1      5           5      2       3          4\n",
      "1724          1            1      5           5      3       1          1\n",
      "1725          1            1      5           5      3       2          3\n",
      "1726          1            1      5           5      3       3          4\n",
      "\n",
      "[1727 rows x 7 columns]\n"
     ]
    }
   ],
   "source": [
    "print (df)"
   ]
  }
 ],
 "metadata": {
  "kernelspec": {
   "display_name": "Python 3",
   "language": "python",
   "name": "python3"
  },
  "language_info": {
   "codemirror_mode": {
    "name": "ipython",
    "version": 3
   },
   "file_extension": ".py",
   "mimetype": "text/x-python",
   "name": "python",
   "nbconvert_exporter": "python",
   "pygments_lexer": "ipython3",
   "version": "3.6.5"
  }
 },
 "nbformat": 4,
 "nbformat_minor": 2
}
