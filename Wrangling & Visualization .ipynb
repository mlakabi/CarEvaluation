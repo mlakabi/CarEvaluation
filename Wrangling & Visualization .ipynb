{
 "cells": [
  {
   "cell_type": "code",
   "execution_count": 3,
   "metadata": {},
   "outputs": [],
   "source": [
    "import numpy as np\n",
    "import matplotlib.pyplot as plt\n",
    "import pandas as pd\n",
    "%matplotlib inline "
   ]
  },
  {
   "cell_type": "code",
   "execution_count": null,
   "metadata": {},
   "outputs": [],
   "source": [
    "#Load data + adding column labels"
   ]
  },
  {
   "cell_type": "code",
   "execution_count": 7,
   "metadata": {},
   "outputs": [
    {
     "name": "stdout",
     "output_type": "stream",
     "text": [
      "     Buy_Price Maint_Price  Doors Passengers  Trunk Safety Condition\n",
      "0        vhigh       vhigh      2          2  small    med     unacc\n",
      "1        vhigh       vhigh      2          2  small   high     unacc\n",
      "2        vhigh       vhigh      2          2    med    low     unacc\n",
      "3        vhigh       vhigh      2          2    med    med     unacc\n",
      "4        vhigh       vhigh      2          2    med   high     unacc\n",
      "5        vhigh       vhigh      2          2    big    low     unacc\n",
      "6        vhigh       vhigh      2          2    big    med     unacc\n",
      "7        vhigh       vhigh      2          2    big   high     unacc\n",
      "8        vhigh       vhigh      2          4  small    low     unacc\n",
      "9        vhigh       vhigh      2          4  small    med     unacc\n",
      "10       vhigh       vhigh      2          4  small   high     unacc\n",
      "11       vhigh       vhigh      2          4    med    low     unacc\n",
      "12       vhigh       vhigh      2          4    med    med     unacc\n",
      "13       vhigh       vhigh      2          4    med   high     unacc\n",
      "14       vhigh       vhigh      2          4    big    low     unacc\n",
      "15       vhigh       vhigh      2          4    big    med     unacc\n",
      "16       vhigh       vhigh      2          4    big   high     unacc\n",
      "17       vhigh       vhigh      2       more  small    low     unacc\n",
      "18       vhigh       vhigh      2       more  small    med     unacc\n",
      "19       vhigh       vhigh      2       more  small   high     unacc\n",
      "20       vhigh       vhigh      2       more    med    low     unacc\n",
      "21       vhigh       vhigh      2       more    med    med     unacc\n",
      "22       vhigh       vhigh      2       more    med   high     unacc\n",
      "23       vhigh       vhigh      2       more    big    low     unacc\n",
      "24       vhigh       vhigh      2       more    big    med     unacc\n",
      "25       vhigh       vhigh      2       more    big   high     unacc\n",
      "26       vhigh       vhigh      3          2  small    low     unacc\n",
      "27       vhigh       vhigh      3          2  small    med     unacc\n",
      "28       vhigh       vhigh      3          2  small   high     unacc\n",
      "29       vhigh       vhigh      3          2    med    low     unacc\n",
      "...        ...         ...    ...        ...    ...    ...       ...\n",
      "1697       low         low      4       more    big    low     unacc\n",
      "1698       low         low      4       more    big    med      good\n",
      "1699       low         low      4       more    big   high     vgood\n",
      "1700       low         low  5more          2  small    low     unacc\n",
      "1701       low         low  5more          2  small    med     unacc\n",
      "1702       low         low  5more          2  small   high     unacc\n",
      "1703       low         low  5more          2    med    low     unacc\n",
      "1704       low         low  5more          2    med    med     unacc\n",
      "1705       low         low  5more          2    med   high     unacc\n",
      "1706       low         low  5more          2    big    low     unacc\n",
      "1707       low         low  5more          2    big    med     unacc\n",
      "1708       low         low  5more          2    big   high     unacc\n",
      "1709       low         low  5more          4  small    low     unacc\n",
      "1710       low         low  5more          4  small    med       acc\n",
      "1711       low         low  5more          4  small   high      good\n",
      "1712       low         low  5more          4    med    low     unacc\n",
      "1713       low         low  5more          4    med    med      good\n",
      "1714       low         low  5more          4    med   high     vgood\n",
      "1715       low         low  5more          4    big    low     unacc\n",
      "1716       low         low  5more          4    big    med      good\n",
      "1717       low         low  5more          4    big   high     vgood\n",
      "1718       low         low  5more       more  small    low     unacc\n",
      "1719       low         low  5more       more  small    med       acc\n",
      "1720       low         low  5more       more  small   high      good\n",
      "1721       low         low  5more       more    med    low     unacc\n",
      "1722       low         low  5more       more    med    med      good\n",
      "1723       low         low  5more       more    med   high     vgood\n",
      "1724       low         low  5more       more    big    low     unacc\n",
      "1725       low         low  5more       more    big    med      good\n",
      "1726       low         low  5more       more    big   high     vgood\n",
      "\n",
      "[1727 rows x 7 columns]\n"
     ]
    }
   ],
   "source": [
    "filename='car_data.csv'\n",
    "df = pd.read_csv(filename)\n",
    "df.columns = ['Buy_Price', \"Maint_Price\", 'Doors', 'Passengers', 'Trunk', 'Safety', 'Condition']\n",
    "print (df)"
   ]
  },
  {
   "cell_type": "code",
   "execution_count": null,
   "metadata": {},
   "outputs": [],
   "source": [
    "## Check for missing data"
   ]
  },
  {
   "cell_type": "code",
   "execution_count": 8,
   "metadata": {},
   "outputs": [
    {
     "data": {
      "text/html": [
       "<div>\n",
       "<style scoped>\n",
       "    .dataframe tbody tr th:only-of-type {\n",
       "        vertical-align: middle;\n",
       "    }\n",
       "\n",
       "    .dataframe tbody tr th {\n",
       "        vertical-align: top;\n",
       "    }\n",
       "\n",
       "    .dataframe thead th {\n",
       "        text-align: right;\n",
       "    }\n",
       "</style>\n",
       "<table border=\"1\" class=\"dataframe\">\n",
       "  <thead>\n",
       "    <tr style=\"text-align: right;\">\n",
       "      <th></th>\n",
       "      <th>Buy_Price</th>\n",
       "      <th>Maint_Price</th>\n",
       "      <th>Doors</th>\n",
       "      <th>Passengers</th>\n",
       "      <th>Trunk</th>\n",
       "      <th>Safety</th>\n",
       "      <th>Condition</th>\n",
       "    </tr>\n",
       "  </thead>\n",
       "  <tbody>\n",
       "    <tr>\n",
       "      <th>count</th>\n",
       "      <td>1727</td>\n",
       "      <td>1727</td>\n",
       "      <td>1727</td>\n",
       "      <td>1727</td>\n",
       "      <td>1727</td>\n",
       "      <td>1727</td>\n",
       "      <td>1727</td>\n",
       "    </tr>\n",
       "    <tr>\n",
       "      <th>unique</th>\n",
       "      <td>4</td>\n",
       "      <td>4</td>\n",
       "      <td>4</td>\n",
       "      <td>3</td>\n",
       "      <td>3</td>\n",
       "      <td>3</td>\n",
       "      <td>4</td>\n",
       "    </tr>\n",
       "    <tr>\n",
       "      <th>top</th>\n",
       "      <td>high</td>\n",
       "      <td>high</td>\n",
       "      <td>3</td>\n",
       "      <td>4</td>\n",
       "      <td>big</td>\n",
       "      <td>high</td>\n",
       "      <td>unacc</td>\n",
       "    </tr>\n",
       "    <tr>\n",
       "      <th>freq</th>\n",
       "      <td>432</td>\n",
       "      <td>432</td>\n",
       "      <td>432</td>\n",
       "      <td>576</td>\n",
       "      <td>576</td>\n",
       "      <td>576</td>\n",
       "      <td>1209</td>\n",
       "    </tr>\n",
       "  </tbody>\n",
       "</table>\n",
       "</div>"
      ],
      "text/plain": [
       "       Buy_Price Maint_Price Doors Passengers Trunk Safety Condition\n",
       "count       1727        1727  1727       1727  1727   1727      1727\n",
       "unique         4           4     4          3     3      3         4\n",
       "top         high        high     3          4   big   high     unacc\n",
       "freq         432         432   432        576   576    576      1209"
      ]
     },
     "execution_count": 8,
     "metadata": {},
     "output_type": "execute_result"
    }
   ],
   "source": [
    "df.describe()"
   ]
  },
  {
   "cell_type": "code",
   "execution_count": 9,
   "metadata": {},
   "outputs": [
    {
     "name": "stdout",
     "output_type": "stream",
     "text": [
      "<class 'pandas.core.frame.DataFrame'>\n",
      "RangeIndex: 1727 entries, 0 to 1726\n",
      "Data columns (total 7 columns):\n",
      "Buy_Price      1727 non-null object\n",
      "Maint_Price    1727 non-null object\n",
      "Doors          1727 non-null object\n",
      "Passengers     1727 non-null object\n",
      "Trunk          1727 non-null object\n",
      "Safety         1727 non-null object\n",
      "Condition      1727 non-null object\n",
      "dtypes: object(7)\n",
      "memory usage: 94.5+ KB\n"
     ]
    }
   ],
   "source": [
    "df.info()"
   ]
  },
  {
   "cell_type": "code",
   "execution_count": null,
   "metadata": {},
   "outputs": [],
   "source": []
  }
 ],
 "metadata": {
  "kernelspec": {
   "display_name": "Python 3",
   "language": "python",
   "name": "python3"
  },
  "language_info": {
   "codemirror_mode": {
    "name": "ipython",
    "version": 3
   },
   "file_extension": ".py",
   "mimetype": "text/x-python",
   "name": "python",
   "nbconvert_exporter": "python",
   "pygments_lexer": "ipython3",
   "version": "3.6.5"
  }
 },
 "nbformat": 4,
 "nbformat_minor": 2
}
