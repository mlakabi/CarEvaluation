{
 "cells": [
  {
   "cell_type": "markdown",
   "metadata": {},
   "source": [
    "# Car Evaluation: How is your car doing? "
   ]
  },
  {
   "cell_type": "markdown",
   "metadata": {
    "toc": true
   },
   "source": [
    "<h1>Table of Contents<span class=\"tocSkip\"></span></h1>\n",
    "<div class=\"toc\"><ul class=\"toc-item\"><li><span><a href=\"#Car-Evaluation:-How-is-your-car-doing?\" data-toc-modified-id=\"Car-Evaluation:-How-is-your-car-doing?-1\">Car Evaluation: How is your car doing?</a></span><ul class=\"toc-item\"><li><span><a href=\"#Introduction\" data-toc-modified-id=\"Introduction-1.1\">Introduction</a></span><ul class=\"toc-item\"><li><span><a href=\"#The-Clients\" data-toc-modified-id=\"The-Clients-1.1.1\">The Clients</a></span></li><li><span><a href=\"#The-Data\" data-toc-modified-id=\"The-Data-1.1.2\">The Data</a></span></li></ul></li><li><span><a href=\"#Data-Wrangling\" data-toc-modified-id=\"Data-Wrangling-1.2\">Data Wrangling</a></span><ul class=\"toc-item\"><li><span><a href=\"#Load-data-+-Adding-column-labels\" data-toc-modified-id=\"Load-data-+-Adding-column-labels-1.2.1\">Load data + Adding column labels</a></span></li><li><span><a href=\"#Check-for-missing-data\" data-toc-modified-id=\"Check-for-missing-data-1.2.2\">Check for missing data</a></span></li></ul></li></ul></li><li><span><a href=\"#Data-Visualization-&amp;-Exploration\" data-toc-modified-id=\"Data-Visualization-&amp;-Exploration-2\">Data Visualization &amp; Exploration</a></span><ul class=\"toc-item\"><li><ul class=\"toc-item\"><li><span><a href=\"#Maintenance-Price--&amp;-Condition\" data-toc-modified-id=\"Maintenance-Price--&amp;-Condition-2.0.1\">Maintenance Price  &amp; Condition</a></span></li><li><span><a href=\"#Buying-Price-&amp;-Condition\" data-toc-modified-id=\"Buying-Price-&amp;-Condition-2.0.2\">Buying Price &amp; Condition</a></span></li><li><span><a href=\"#Doors-&amp;-Condition\" data-toc-modified-id=\"Doors-&amp;-Condition-2.0.3\">Doors &amp; Condition</a></span></li><li><span><a href=\"#Safety-&amp;-Condition\" data-toc-modified-id=\"Safety-&amp;-Condition-2.0.4\">Safety &amp; Condition</a></span></li><li><span><a href=\"#Passengers-&amp;-Condition\" data-toc-modified-id=\"Passengers-&amp;-Condition-2.0.5\">Passengers &amp; Condition</a></span></li><li><span><a href=\"#Trunk-Size-&amp;-Condition\" data-toc-modified-id=\"Trunk-Size-&amp;-Condition-2.0.6\">Trunk Size &amp; Condition</a></span></li><li><span><a href=\"#Key-Insights-&amp;-Observations\" data-toc-modified-id=\"Key-Insights-&amp;-Observations-2.0.7\">Key Insights &amp; Observations</a></span></li></ul></li></ul></li><li><span><a href=\"#Statistical-Testing\" data-toc-modified-id=\"Statistical-Testing-3\">Statistical Testing</a></span><ul class=\"toc-item\"><li><ul class=\"toc-item\"><li><span><a href=\"#Correlation-between-Buying-Price-&amp;-Condition\" data-toc-modified-id=\"Correlation-between-Buying-Price-&amp;-Condition-3.0.1\">Correlation between Buying Price &amp; Condition</a></span></li><li><span><a href=\"#Correlation-between-Maintenance-Price-&amp;-Condition\" data-toc-modified-id=\"Correlation-between-Maintenance-Price-&amp;-Condition-3.0.2\">Correlation between Maintenance Price &amp; Condition</a></span></li><li><span><a href=\"#Correlation-between-Number-of-Doors-&amp;-Condition\" data-toc-modified-id=\"Correlation-between-Number-of-Doors-&amp;-Condition-3.0.3\">Correlation between Number of Doors &amp; Condition</a></span></li><li><span><a href=\"#Correlation-between-Passengers-&amp;-Condition\" data-toc-modified-id=\"Correlation-between-Passengers-&amp;-Condition-3.0.4\">Correlation between Passengers &amp; Condition</a></span></li><li><span><a href=\"#Correlation-between-Trunk-Size-&amp;-Condition\" data-toc-modified-id=\"Correlation-between-Trunk-Size-&amp;-Condition-3.0.5\">Correlation between Trunk Size &amp; Condition</a></span></li><li><span><a href=\"#Correlation-between-Safety-&amp;-Condition\" data-toc-modified-id=\"Correlation-between-Safety-&amp;-Condition-3.0.6\">Correlation between Safety &amp; Condition</a></span></li></ul></li></ul></li><li><span><a href=\"#Vectorization:-Convert-data-to-numerical-values\" data-toc-modified-id=\"Vectorization:-Convert-data-to-numerical-values-4\">Vectorization: Convert data to numerical values</a></span></li><li><span><a href=\"#Machine-Learning-Models\" data-toc-modified-id=\"Machine-Learning-Models-5\">Machine Learning Models</a></span><ul class=\"toc-item\"><li><span><a href=\"#Logistic-Regression\" data-toc-modified-id=\"Logistic-Regression-5.1\">Logistic Regression</a></span><ul class=\"toc-item\"><li><span><a href=\"#Accuracy\" data-toc-modified-id=\"Accuracy-5.1.1\">Accuracy</a></span></li><li><span><a href=\"#Classification-Report\" data-toc-modified-id=\"Classification-Report-5.1.2\">Classification Report</a></span></li><li><span><a href=\"#Confusion-Matrix\" data-toc-modified-id=\"Confusion-Matrix-5.1.3\">Confusion Matrix</a></span></li></ul></li><li><span><a href=\"#SVM(SVC)\" data-toc-modified-id=\"SVM(SVC)-5.2\">SVM(SVC)</a></span><ul class=\"toc-item\"><li><span><a href=\"#Accuracy\" data-toc-modified-id=\"Accuracy-5.2.1\">Accuracy</a></span></li><li><span><a href=\"#Classification-Report\" data-toc-modified-id=\"Classification-Report-5.2.2\">Classification Report</a></span></li><li><span><a href=\"#Confusion-Matrix\" data-toc-modified-id=\"Confusion-Matrix-5.2.3\">Confusion Matrix</a></span></li></ul></li><li><span><a href=\"#Gradient-Boosting\" data-toc-modified-id=\"Gradient-Boosting-5.3\">Gradient Boosting</a></span><ul class=\"toc-item\"><li><span><a href=\"#Accuracy\" data-toc-modified-id=\"Accuracy-5.3.1\">Accuracy</a></span></li><li><span><a href=\"#Feature-Importance\" data-toc-modified-id=\"Feature-Importance-5.3.2\">Feature Importance</a></span></li><li><span><a href=\"#Classification-report\" data-toc-modified-id=\"Classification-report-5.3.3\">Classification report</a></span></li><li><span><a href=\"#Confusion-Matrix\" data-toc-modified-id=\"Confusion-Matrix-5.3.4\">Confusion Matrix</a></span></li><li><span><a href=\"#HyperParameter-Tuning\" data-toc-modified-id=\"HyperParameter-Tuning-5.3.5\">HyperParameter Tuning</a></span></li><li><span><a href=\"#Testing-HyperParameter-Variables\" data-toc-modified-id=\"Testing-HyperParameter-Variables-5.3.6\">Testing HyperParameter Variables</a></span></li></ul></li><li><span><a href=\"#Random-Forests-Classifier\" data-toc-modified-id=\"Random-Forests-Classifier-5.4\">Random Forests Classifier</a></span><ul class=\"toc-item\"><li><span><a href=\"#Feature-Importance\" data-toc-modified-id=\"Feature-Importance-5.4.1\">Feature Importance</a></span></li><li><span><a href=\"#Accuracy\" data-toc-modified-id=\"Accuracy-5.4.2\">Accuracy</a></span></li><li><span><a href=\"#Classification-Report\" data-toc-modified-id=\"Classification-Report-5.4.3\">Classification Report</a></span></li><li><span><a href=\"#Confusion-Matrix\" data-toc-modified-id=\"Confusion-Matrix-5.4.4\">Confusion Matrix</a></span></li><li><span><a href=\"#HyperParameter-Tuning\" data-toc-modified-id=\"HyperParameter-Tuning-5.4.5\">HyperParameter Tuning</a></span></li><li><span><a href=\"#Testing-HyperParameter-Variables\" data-toc-modified-id=\"Testing-HyperParameter-Variables-5.4.6\">Testing HyperParameter Variables</a></span></li></ul></li></ul></li><li><span><a href=\"#Conclusion\" data-toc-modified-id=\"Conclusion-6\">Conclusion</a></span><ul class=\"toc-item\"><li><ul class=\"toc-item\"><li><span><a href=\"#Insights\" data-toc-modified-id=\"Insights-6.0.1\">Insights</a></span></li><li><span><a href=\"#Limitations\" data-toc-modified-id=\"Limitations-6.0.2\">Limitations</a></span></li><li><span><a href=\"#Next-Steps\" data-toc-modified-id=\"Next-Steps-6.0.3\">Next Steps</a></span></li></ul></li></ul></li></ul></div>"
   ]
  },
  {
   "cell_type": "markdown",
   "metadata": {},
   "source": [
    "## Introduction  "
   ]
  },
  {
   "cell_type": "markdown",
   "metadata": {},
   "source": [
    "The purpose of this project is to to analyze and explore data on used cars in the US over the last few years. With this information, we can apply statistical methods and machine learning models to observe the correlation between the features of a car and its overall condition. We will select feature variables and apply machine learning algorithms in order to create a Machine Learning model that can predict the condition of a vehicle based on features about its main characteristics. In particular, we will primarily focus on the technical characteristics, overall price, and comfort of a vehicle so that we have a more narrow and intensified scope. We will categorize the condition of a vehicle in the following 4 buckets:\n",
    "    * unacc: Unacceptable Condition\n",
    "    * acc: Acceptable Condition\n",
    "    * good: Good Condition \n",
    "    * vgood: Very Good Condition\n"
   ]
  },
  {
   "cell_type": "markdown",
   "metadata": {},
   "source": [
    "### The Clients "
   ]
  },
  {
   "cell_type": "markdown",
   "metadata": {},
   "source": [
    "The clients range from used car dealerships, to potential used car buyers. In particular, I would like to focus the attention on individuals who are purchasing a vehicle either online or through an auction. Organizations that buy and sell used cars would likely also be interested stakeholders. Using certain features to predict the condition of a vehicle would allow companies such as KellyBlueBook.com(KBB) to create more robust ML models that allow them to predict both the value and condition of a used vehicle. "
   ]
  },
  {
   "cell_type": "markdown",
   "metadata": {},
   "source": [
    "### The Data"
   ]
  },
  {
   "cell_type": "markdown",
   "metadata": {},
   "source": [
    "   Car Evaluation Database was derived from a simple hierarchical \n",
    "   decision model originally developed for the demonstration of DEX\n",
    "   (M. Bohanec, V. Rajkovic: Expert system for decision\n",
    "   making. Sistemica 1(1), pp. 145-157, 1990.). The model evaluates\n",
    "   cars according to the following concept structure:\n",
    "\n",
    "* CAR                      car acceptability\n",
    "* PRICE                  overall price\n",
    "* buying               buying price\n",
    "* maint                price of the maintenance\n",
    "* TECH                   technical characteristics\n",
    "* COMFORT              comfort\n",
    "* doors              number of doors\n",
    "* persons            capacity in terms of persons to carry\n",
    "* lug_boot           the size of luggage boot\n",
    "* safety               estimated safety of the car\n",
    "\n",
    "   Input attributes are printed in lowercase. Besides the target\n",
    "   concept (CAR), the model includes three intermediate concepts:\n",
    "   PRICE, TECH, COMFORT. Every concept is in the original model\n",
    "   related to its lower level descendants by a set of examples (for\n",
    "   these examples sets see http://www-ai.ijs.si/BlazZupan/car.html).\n",
    "\n",
    "   The Car Evaluation Database contains examples with the structural\n",
    "   information removed, i.e., directly relates CAR to the six input\n",
    "   attributes: buying, maint, doors, persons, lug_boot, safety.\n",
    "\n",
    "   Because of known underlying concept structure, this database may be\n",
    "   particularly useful for testing constructive induction and\n",
    "   structure discovery methods."
   ]
  },
  {
   "cell_type": "markdown",
   "metadata": {},
   "source": [
    "## Data Wrangling "
   ]
  },
  {
   "cell_type": "code",
   "execution_count": 2,
   "metadata": {},
   "outputs": [],
   "source": [
    "import numpy as np\n",
    "import matplotlib.pyplot as plt\n",
    "import pandas as pd\n",
    "import seaborn as sns\n",
    "import scipy\n",
    "from scipy.stats import chisquare\n",
    "from scipy.stats import chi2_contingency\n",
    "\n",
    "\n",
    "%matplotlib inline"
   ]
  },
  {
   "cell_type": "markdown",
   "metadata": {},
   "source": [
    "### Load data + Adding column labels"
   ]
  },
  {
   "cell_type": "code",
   "execution_count": 87,
   "metadata": {},
   "outputs": [
    {
     "name": "stdout",
     "output_type": "stream",
     "text": [
      "   Buy_Price Maint_Price Doors Passengers  Trunk Safety Condition\n",
      "0      vhigh       vhigh     2          2  small    med     unacc\n",
      "1      vhigh       vhigh     2          2  small   high     unacc\n",
      "2      vhigh       vhigh     2          2    med    low     unacc\n",
      "3      vhigh       vhigh     2          2    med    med     unacc\n",
      "4      vhigh       vhigh     2          2    med   high     unacc\n",
      "5      vhigh       vhigh     2          2    big    low     unacc\n",
      "6      vhigh       vhigh     2          2    big    med     unacc\n",
      "7      vhigh       vhigh     2          2    big   high     unacc\n",
      "8      vhigh       vhigh     2          4  small    low     unacc\n",
      "9      vhigh       vhigh     2          4  small    med     unacc\n",
      "10     vhigh       vhigh     2          4  small   high     unacc\n",
      "11     vhigh       vhigh     2          4    med    low     unacc\n",
      "12     vhigh       vhigh     2          4    med    med     unacc\n",
      "13     vhigh       vhigh     2          4    med   high     unacc\n",
      "14     vhigh       vhigh     2          4    big    low     unacc\n"
     ]
    }
   ],
   "source": [
    "filename='car_data.csv'\n",
    "df = pd.read_csv(filename)\n",
    "df.columns = ['Buy_Price', \"Maint_Price\", 'Doors', 'Passengers', 'Trunk', 'Safety', 'Condition']\n",
    "print (df.head(15))"
   ]
  },
  {
   "cell_type": "markdown",
   "metadata": {},
   "source": [
    "### Check for missing data"
   ]
  },
  {
   "cell_type": "code",
   "execution_count": 4,
   "metadata": {},
   "outputs": [
    {
     "data": {
      "text/html": [
       "<div>\n",
       "<style scoped>\n",
       "    .dataframe tbody tr th:only-of-type {\n",
       "        vertical-align: middle;\n",
       "    }\n",
       "\n",
       "    .dataframe tbody tr th {\n",
       "        vertical-align: top;\n",
       "    }\n",
       "\n",
       "    .dataframe thead th {\n",
       "        text-align: right;\n",
       "    }\n",
       "</style>\n",
       "<table border=\"1\" class=\"dataframe\">\n",
       "  <thead>\n",
       "    <tr style=\"text-align: right;\">\n",
       "      <th></th>\n",
       "      <th>Buy_Price</th>\n",
       "      <th>Maint_Price</th>\n",
       "      <th>Doors</th>\n",
       "      <th>Passengers</th>\n",
       "      <th>Trunk</th>\n",
       "      <th>Safety</th>\n",
       "      <th>Condition</th>\n",
       "    </tr>\n",
       "  </thead>\n",
       "  <tbody>\n",
       "    <tr>\n",
       "      <th>count</th>\n",
       "      <td>1727</td>\n",
       "      <td>1727</td>\n",
       "      <td>1727</td>\n",
       "      <td>1727</td>\n",
       "      <td>1727</td>\n",
       "      <td>1727</td>\n",
       "      <td>1727</td>\n",
       "    </tr>\n",
       "    <tr>\n",
       "      <th>unique</th>\n",
       "      <td>4</td>\n",
       "      <td>4</td>\n",
       "      <td>4</td>\n",
       "      <td>3</td>\n",
       "      <td>3</td>\n",
       "      <td>3</td>\n",
       "      <td>4</td>\n",
       "    </tr>\n",
       "    <tr>\n",
       "      <th>top</th>\n",
       "      <td>high</td>\n",
       "      <td>high</td>\n",
       "      <td>4</td>\n",
       "      <td>4</td>\n",
       "      <td>med</td>\n",
       "      <td>high</td>\n",
       "      <td>unacc</td>\n",
       "    </tr>\n",
       "    <tr>\n",
       "      <th>freq</th>\n",
       "      <td>432</td>\n",
       "      <td>432</td>\n",
       "      <td>432</td>\n",
       "      <td>576</td>\n",
       "      <td>576</td>\n",
       "      <td>576</td>\n",
       "      <td>1209</td>\n",
       "    </tr>\n",
       "  </tbody>\n",
       "</table>\n",
       "</div>"
      ],
      "text/plain": [
       "       Buy_Price Maint_Price Doors Passengers Trunk Safety Condition\n",
       "count       1727        1727  1727       1727  1727   1727      1727\n",
       "unique         4           4     4          3     3      3         4\n",
       "top         high        high     4          4   med   high     unacc\n",
       "freq         432         432   432        576   576    576      1209"
      ]
     },
     "execution_count": 4,
     "metadata": {},
     "output_type": "execute_result"
    }
   ],
   "source": [
    "df.describe()"
   ]
  },
  {
   "cell_type": "code",
   "execution_count": 5,
   "metadata": {},
   "outputs": [
    {
     "name": "stdout",
     "output_type": "stream",
     "text": [
      "<class 'pandas.core.frame.DataFrame'>\n",
      "RangeIndex: 1727 entries, 0 to 1726\n",
      "Data columns (total 7 columns):\n",
      "Buy_Price      1727 non-null object\n",
      "Maint_Price    1727 non-null object\n",
      "Doors          1727 non-null object\n",
      "Passengers     1727 non-null object\n",
      "Trunk          1727 non-null object\n",
      "Safety         1727 non-null object\n",
      "Condition      1727 non-null object\n",
      "dtypes: object(7)\n",
      "memory usage: 94.5+ KB\n"
     ]
    }
   ],
   "source": [
    "df.info()"
   ]
  },
  {
   "cell_type": "markdown",
   "metadata": {},
   "source": [
    "# Data Visualization & Exploration"
   ]
  },
  {
   "cell_type": "markdown",
   "metadata": {},
   "source": [
    "Here we will explore and inspect the data at a high level to see if there are any important trends within the dataset.  Through data visualization, we are able to graphically view any important details that may otherwise go unnoticed. It also provides a good framework for how the data looks from a story-telling perspective."
   ]
  },
  {
   "cell_type": "markdown",
   "metadata": {},
   "source": [
    "### Maintenance Price  & Condition "
   ]
  },
  {
   "cell_type": "markdown",
   "metadata": {},
   "source": [
    "At a high level we can derive that the higher the maintance price the worse the condition "
   ]
  },
  {
   "cell_type": "code",
   "execution_count": 6,
   "metadata": {},
   "outputs": [
    {
     "data": {
      "image/png": "[encoded data removed]",
      "text/plain": [
       "<Figure size 432x288 with 1 Axes>"
      ]
     },
     "metadata": {},
     "output_type": "display_data"
    }
   ],
   "source": [
    "MC = sns.countplot(x=\"Maint_Price\",hue=\"Condition\",  data=df)"
   ]
  },
  {
   "cell_type": "markdown",
   "metadata": {},
   "source": [
    "### Buying Price & Condition "
   ]
  },
  {
   "cell_type": "markdown",
   "metadata": {},
   "source": [
    "We see an inverse relationship between the price of a car and its condition "
   ]
  },
  {
   "cell_type": "code",
   "execution_count": 7,
   "metadata": {},
   "outputs": [
    {
     "data": {
      "image/png": "[encoded data removed]",
      "text/plain": [
       "<Figure size 432x288 with 1 Axes>"
      ]
     },
     "metadata": {},
     "output_type": "display_data"
    }
   ],
   "source": [
    "BC = sns.countplot(x=\"Buy_Price\",hue=\"Condition\",  data=df)"
   ]
  },
  {
   "cell_type": "markdown",
   "metadata": {},
   "source": [
    "### Doors & Condition "
   ]
  },
  {
   "cell_type": "markdown",
   "metadata": {},
   "source": [
    "We can see that on average cars with more doors were in better condition"
   ]
  },
  {
   "cell_type": "code",
   "execution_count": 8,
   "metadata": {},
   "outputs": [
    {
     "data": {
      "image/png": "[encoded data removed]",
      "text/plain": [
       "<Figure size 432x288 with 1 Axes>"
      ]
     },
     "metadata": {},
     "output_type": "display_data"
    }
   ],
   "source": [
    "DC = sns.countplot(x=\"Doors\",hue=\"Condition\",  data=df)"
   ]
  },
  {
   "cell_type": "markdown",
   "metadata": {},
   "source": [
    "### Safety & Condition "
   ]
  },
  {
   "cell_type": "markdown",
   "metadata": {},
   "source": [
    "Cars with higher safety are in better condition then those with low safety "
   ]
  },
  {
   "cell_type": "code",
   "execution_count": 9,
   "metadata": {},
   "outputs": [
    {
     "data": {
      "image/png": "[encoded data removed]",
      "text/plain": [
       "<Figure size 432x288 with 1 Axes>"
      ]
     },
     "metadata": {},
     "output_type": "display_data"
    }
   ],
   "source": [
    "SC = sns.countplot(x=\"Safety\",hue=\"Condition\",  data=df)"
   ]
  },
  {
   "cell_type": "markdown",
   "metadata": {},
   "source": [
    "### Passengers & Condition "
   ]
  },
  {
   "cell_type": "markdown",
   "metadata": {},
   "source": [
    "Vehicles that hold more passengers are generally in better condition then their smaller counterparts"
   ]
  },
  {
   "cell_type": "code",
   "execution_count": 10,
   "metadata": {},
   "outputs": [
    {
     "data": {
      "image/png": "[encoded data removed]",
      "text/plain": [
       "<Figure size 432x288 with 1 Axes>"
      ]
     },
     "metadata": {},
     "output_type": "display_data"
    }
   ],
   "source": [
    "PC = sns.countplot(x=\"Passengers\",hue=\"Condition\",  data=df)"
   ]
  },
  {
   "cell_type": "markdown",
   "metadata": {},
   "source": [
    "### Trunk Size & Condition "
   ]
  },
  {
   "cell_type": "markdown",
   "metadata": {},
   "source": [
    "Cars with bigger trunks are in better condition then those with smaller trunks"
   ]
  },
  {
   "cell_type": "code",
   "execution_count": 11,
   "metadata": {},
   "outputs": [
    {
     "data": {
      "image/png": "[encoded data removed]",
      "text/plain": [
       "<Figure size 432x288 with 1 Axes>"
      ]
     },
     "metadata": {},
     "output_type": "display_data"
    }
   ],
   "source": [
    "TC = sns.countplot(x=\"Trunk\",hue=\"Condition\",  data=df)"
   ]
  },
  {
   "cell_type": "markdown",
   "metadata": {},
   "source": [
    "### Key Insights & Observations"
   ]
  },
  {
   "cell_type": "markdown",
   "metadata": {},
   "source": [
    "After testing each feature individually we can derive a few high level inferences:\n",
    "  * All features seem to have an effect on the Predictor variable ('Condition')\n",
    "  * The number of Passengers a vehicle can hold, as well as Safety seem to be strong predictors in the overall condition of a vehicle\n",
    "  * The number of doors a vehicle has seems to have little effect on condition \n",
    "  * Buying Price and Maintenance Price seem to affect condition very similarly "
   ]
  },
  {
   "cell_type": "markdown",
   "metadata": {},
   "source": [
    "# Statistical Testing"
   ]
  },
  {
   "cell_type": "markdown",
   "metadata": {},
   "source": [
    "Applying inferential statistics is an important pre-cursor to the supervised machine learning models we will use to predict the condition of a vehicle based on its different facets. Here, we will apply a Chi-squared test to see which  features are statistically significant in determining the condition of a car. The Chi-Squared test is used to determine whether an association (or relationship) between 2 categorical variables in a sample is likely to reflect a real association between these 2 variables in the population"
   ]
  },
  {
   "cell_type": "markdown",
   "metadata": {},
   "source": [
    "### Correlation between Buying Price & Condition"
   ]
  },
  {
   "cell_type": "code",
   "execution_count": 70,
   "metadata": {},
   "outputs": [],
   "source": [
    "Buy_con = pd.crosstab(df['Buy_Price'], df['Condition'])"
   ]
  },
  {
   "cell_type": "code",
   "execution_count": 71,
   "metadata": {},
   "outputs": [
    {
     "data": {
      "text/plain": [
       "(188.8892399516746,\n",
       " 7.029416116370655e-36,\n",
       " 9,\n",
       " array([[302.42501448,  96.05558772,  17.25998842,  16.25940938],\n",
       "        [302.42501448,  96.05558772,  17.25998842,  16.25940938],\n",
       "        [302.42501448,  96.05558772,  17.25998842,  16.25940938],\n",
       "        [301.72495657,  95.83323683,  17.22003474,  16.22177186]]))"
      ]
     },
     "execution_count": 71,
     "metadata": {},
     "output_type": "execute_result"
    }
   ],
   "source": [
    "chi2_contingency(Buy_con)"
   ]
  },
  {
   "cell_type": "markdown",
   "metadata": {},
   "source": [
    "Because the p value is small (less then 0.05) we can say that the two variables have significant relationships between them."
   ]
  },
  {
   "cell_type": "markdown",
   "metadata": {},
   "source": [
    "### Correlation between Maintenance Price & Condition "
   ]
  },
  {
   "cell_type": "code",
   "execution_count": 15,
   "metadata": {},
   "outputs": [],
   "source": [
    "Maint_con = pd.crosstab(df['Maint_Price'], df['Condition'])"
   ]
  },
  {
   "cell_type": "code",
   "execution_count": 16,
   "metadata": {},
   "outputs": [
    {
     "data": {
      "text/plain": [
       "(142.61049537014105,\n",
       " 2.9808687284632554e-26,\n",
       " 9,\n",
       " array([[ 96.05558772,  17.25998842, 302.42501448,  16.25940938],\n",
       "        [ 96.05558772,  17.25998842, 302.42501448,  16.25940938],\n",
       "        [ 96.05558772,  17.25998842, 302.42501448,  16.25940938],\n",
       "        [ 95.83323683,  17.22003474, 301.72495657,  16.22177186]]))"
      ]
     },
     "execution_count": 16,
     "metadata": {},
     "output_type": "execute_result"
    }
   ],
   "source": [
    "chi2_contingency(Maint_con)"
   ]
  },
  {
   "cell_type": "markdown",
   "metadata": {},
   "source": [
    "Because the p value is small (less then 0.05) we can say that the two variables have significant relationships between them."
   ]
  },
  {
   "cell_type": "markdown",
   "metadata": {},
   "source": [
    "### Correlation between Number of Doors & Condition"
   ]
  },
  {
   "cell_type": "code",
   "execution_count": 17,
   "metadata": {},
   "outputs": [],
   "source": [
    "Doors_con = pd.crosstab(df['Doors'], df['Condition'])"
   ]
  },
  {
   "cell_type": "code",
   "execution_count": 18,
   "metadata": {},
   "outputs": [
    {
     "data": {
      "text/plain": [
       "(10.241889840045475,\n",
       " 0.33126023524505205,\n",
       " 9,\n",
       " array([[ 95.83323683,  17.22003474, 301.72495657,  16.22177186],\n",
       "        [ 96.05558772,  17.25998842, 302.42501448,  16.25940938],\n",
       "        [ 96.05558772,  17.25998842, 302.42501448,  16.25940938],\n",
       "        [ 96.05558772,  17.25998842, 302.42501448,  16.25940938]]))"
      ]
     },
     "execution_count": 18,
     "metadata": {},
     "output_type": "execute_result"
    }
   ],
   "source": [
    "chi2_contingency(Doors_con)"
   ]
  },
  {
   "cell_type": "markdown",
   "metadata": {},
   "source": [
    "Because the p value is large (more then 0.05) we can say that the two variables do not have a significant relationships between them."
   ]
  },
  {
   "cell_type": "markdown",
   "metadata": {},
   "source": [
    "### Correlation between Passengers & Condition"
   ]
  },
  {
   "cell_type": "code",
   "execution_count": 19,
   "metadata": {},
   "outputs": [],
   "source": [
    "Pass_con = pd.crosstab(df['Passengers'], df['Condition'])"
   ]
  },
  {
   "cell_type": "code",
   "execution_count": 20,
   "metadata": {},
   "outputs": [
    {
     "data": {
      "text/plain": [
       "(370.7853885329821,\n",
       " 5.30659778660845e-77,\n",
       " 6,\n",
       " array([[127.85176607,  22.97336422, 402.53329473,  21.64157499],\n",
       "        [128.07411697,  23.01331789, 403.23335263,  21.67921251],\n",
       "        [128.07411697,  23.01331789, 403.23335263,  21.67921251]]))"
      ]
     },
     "execution_count": 20,
     "metadata": {},
     "output_type": "execute_result"
    }
   ],
   "source": [
    "chi2_contingency(Pass_con)"
   ]
  },
  {
   "cell_type": "markdown",
   "metadata": {},
   "source": [
    "Because the p value is small (less then 0.05) we can say that the two variables have significant relationships between them."
   ]
  },
  {
   "cell_type": "markdown",
   "metadata": {},
   "source": [
    "### Correlation between Trunk Size & Condition "
   ]
  },
  {
   "cell_type": "code",
   "execution_count": 21,
   "metadata": {},
   "outputs": [],
   "source": [
    "Trunk_Con = pd.crosstab(df['Trunk'], df['Condition'])"
   ]
  },
  {
   "cell_type": "code",
   "execution_count": 22,
   "metadata": {},
   "outputs": [
    {
     "data": {
      "text/plain": [
       "(53.08177977754241,\n",
       " 1.129629723303536e-09,\n",
       " 6,\n",
       " array([[128.07411697,  23.01331789, 403.23335263,  21.67921251],\n",
       "        [128.07411697,  23.01331789, 403.23335263,  21.67921251],\n",
       "        [127.85176607,  22.97336422, 402.53329473,  21.64157499]]))"
      ]
     },
     "execution_count": 22,
     "metadata": {},
     "output_type": "execute_result"
    }
   ],
   "source": [
    "chi2_contingency(Trunk_Con)"
   ]
  },
  {
   "cell_type": "markdown",
   "metadata": {},
   "source": [
    "Because the p value is small (less then 0.05) we can say that the two variables have significant relationships between them."
   ]
  },
  {
   "cell_type": "markdown",
   "metadata": {},
   "source": [
    "### Correlation between Safety & Condition"
   ]
  },
  {
   "cell_type": "code",
   "execution_count": 23,
   "metadata": {},
   "outputs": [],
   "source": [
    "Safety_Con = pd.crosstab(df['Safety'], df['Condition'])"
   ]
  },
  {
   "cell_type": "code",
   "execution_count": 24,
   "metadata": {},
   "outputs": [
    {
     "data": {
      "text/plain": [
       "(478.7150645489695,\n",
       " 3.2287730970407905e-100,\n",
       " 6,\n",
       " array([[128.07411697,  23.01331789, 403.23335263,  21.67921251],\n",
       "        [127.85176607,  22.97336422, 402.53329473,  21.64157499],\n",
       "        [128.07411697,  23.01331789, 403.23335263,  21.67921251]]))"
      ]
     },
     "execution_count": 24,
     "metadata": {},
     "output_type": "execute_result"
    }
   ],
   "source": [
    "chi2_contingency(Safety_Con)"
   ]
  },
  {
   "cell_type": "markdown",
   "metadata": {},
   "source": [
    "Because the p value is small (less then 0.05) we can say that the two variables have significant relationships between them."
   ]
  },
  {
   "cell_type": "markdown",
   "metadata": {},
   "source": [
    "# Vectorization: Convert data to numerical values "
   ]
  },
  {
   "cell_type": "markdown",
   "metadata": {},
   "source": [
    "Because the data is catagorical it will be difficult to use any machine learning models. By converting the values numerically we will be able to apply the models. Through these steps, we've ensured that the feature variables will be numerical while retaining its original information."
   ]
  },
  {
   "cell_type": "code",
   "execution_count": 25,
   "metadata": {},
   "outputs": [],
   "source": [
    "df['Buy_Price'] = df['Buy_Price'].map({'low': 1, 'med': 2, 'high' : 3, 'vhigh': 4})\n",
    "df['Maint_Price'] = df['Maint_Price'].map({'low': 1, 'med': 2, 'high' : 3, 'vhigh': 4})\n",
    "df['Safety'] = df['Safety'].map({'low': 1, 'med': 2, 'high' : 3})\n",
    "df['Trunk'] = df['Trunk'].map({'small': 1, 'med': 2, 'big' : 3})\n",
    "df['Passengers'] = df['Passengers'].map({'2': 2, '4' : 4, 'more' : 5})\n",
    "df['Doors'] = df['Doors'].map({'2': 2, '3':3, '4':4, '5more' : 5})\n",
    "df['Condition'] = df['Condition'].map({'unacc': 1, 'acc': 2, 'good' : 3, 'vgood': 4})"
   ]
  },
  {
   "cell_type": "code",
   "execution_count": 26,
   "metadata": {},
   "outputs": [
    {
     "name": "stdout",
     "output_type": "stream",
     "text": [
      "   Buy_Price  Maint_Price  Doors  Passengers  Trunk  Safety  Condition\n",
      "0          4            4      2           2      1       2          1\n",
      "1          4            4      2           2      1       3          1\n",
      "2          4            4      2           2      2       1          1\n",
      "3          4            4      2           2      2       2          1\n",
      "4          4            4      2           2      2       3          1\n"
     ]
    }
   ],
   "source": [
    "print( df.head())"
   ]
  },
  {
   "cell_type": "markdown",
   "metadata": {},
   "source": [
    "# Machine Learning Models "
   ]
  },
  {
   "cell_type": "markdown",
   "metadata": {},
   "source": [
    "We will be applying supervised learning methods to our dataset to see if we can create a predictive model that will be able to predict a car's condition based on its main characteristics.Supervised learning algorithms are trained using labeled examples, such as an input where the desired output is known. The learning algorithm receives a set of inputs along with the corresponding correct outputs, and the algorithm learns by comparing its actual output with correct outputs to find errors. It then modifies the model accordingly. Through methods like classification, regression, prediction and gradient boosting, supervised learning uses patterns to predict the values of the label on additional unlabeled data"
   ]
  },
  {
   "cell_type": "markdown",
   "metadata": {},
   "source": [
    "## Logistic Regression "
   ]
  },
  {
   "cell_type": "markdown",
   "metadata": {},
   "source": [
    "Logistic regression is a classification algorithm used to assign observations to a discrete set of classes. Unlike linear regression which outputs continuous number values, logistic regression transforms its output using the logistic sigmoid function to return a probability value which can then be mapped to two or more discrete classes. In this case logistic regression is an ideal solution because of the data's discrete nature. "
   ]
  },
  {
   "cell_type": "code",
   "execution_count": 28,
   "metadata": {},
   "outputs": [],
   "source": [
    "from sklearn.model_selection import train_test_split\n",
    "from sklearn.linear_model import LogisticRegression\n",
    "from sklearn.metrics import confusion_matrix\n",
    "\n",
    "column_names= df.columns\n",
    "column_drop = column_names.drop('Condition')\n",
    "\n",
    "## Convert from Pandas to numpy\n",
    "car = df.values \n",
    "\n",
    "## Split the data\n",
    "X,y = car[:,:6], car[:,6]\n",
    "X_train, X_test, y_train, y_test = train_test_split(X,y,test_size=0.3,random_state=0)\n",
    "\n",
    "## Fit the classifier\n",
    "clf_l = LogisticRegression().fit(X_train,y_train)\n",
    "\n",
    "y_pred_l = clf_l.predict(X_test)\n"
   ]
  },
  {
   "cell_type": "markdown",
   "metadata": {},
   "source": [
    "### Accuracy "
   ]
  },
  {
   "cell_type": "markdown",
   "metadata": {},
   "source": [
    "Testing the classification accuracy of the model\n",
    "\n",
    "Classification accuracy is the ratio of correct predictions to total predictions made"
   ]
  },
  {
   "cell_type": "code",
   "execution_count": 29,
   "metadata": {},
   "outputs": [
    {
     "name": "stdout",
     "output_type": "stream",
     "text": [
      "Classification Training Accuracy: 80.5%\n"
     ]
    }
   ],
   "source": [
    "print(\"Classification Training Accuracy:\" , \"{:.1%}\".format(clf_l.score(X_train,y_train)))"
   ]
  },
  {
   "cell_type": "code",
   "execution_count": 30,
   "metadata": {},
   "outputs": [
    {
     "name": "stdout",
     "output_type": "stream",
     "text": [
      "Classification Test Accuracy: 79.4%\n"
     ]
    }
   ],
   "source": [
    "print(\"Classification Test Accuracy:\" , \"{:.1%}\".format(clf_l.score(X_test,y_test)))"
   ]
  },
  {
   "cell_type": "markdown",
   "metadata": {},
   "source": [
    " ### Classification Report "
   ]
  },
  {
   "cell_type": "markdown",
   "metadata": {},
   "source": [
    "We will fit a classification report to the model to compute precision, recall, F-measure and support for each class\n",
    "\n",
    "    * Precision: The ability of the classifier not to label as positive a sample that is negative.\n",
    "    * Recall: The ability of the classifier to find all the positive samples\n",
    "    * F1-score: The harmonic mean of precision and recall. The scores corresponding to every class indicate the   accuracy of the classifier in classifying the data points in that particular class compared to all other classes\n",
    "    * Support: The number of samples of the true response that lie in that class"
   ]
  },
  {
   "cell_type": "code",
   "execution_count": 31,
   "metadata": {},
   "outputs": [
    {
     "name": "stdout",
     "output_type": "stream",
     "text": [
      "             precision    recall  f1-score   support\n",
      "\n",
      "          1       0.88      0.96      0.92       358\n",
      "          2       0.56      0.56      0.56       116\n",
      "          3       0.43      0.14      0.21        21\n",
      "          4       0.25      0.04      0.07        24\n",
      "\n",
      "avg / total       0.76      0.79      0.77       519\n",
      "\n"
     ]
    }
   ],
   "source": [
    "from sklearn.metrics import classification_report\n",
    "cm_l = classification_report(y_test, y_pred_l)\n",
    "print(cm_l)"
   ]
  },
  {
   "cell_type": "markdown",
   "metadata": {},
   "source": [
    "### Confusion Matrix "
   ]
  },
  {
   "cell_type": "markdown",
   "metadata": {},
   "source": [
    "A confusion matrix is a summary of prediction results on a classification problem. The number of correct and incorrect predictions are summarized with count values and broken down by each class. It provides insight not only into the errors being made by the classifier but more importantly the types of errors that are being made. This breakdown helps overcome the limitation of using classification accuracy alone."
   ]
  },
  {
   "cell_type": "code",
   "execution_count": 32,
   "metadata": {},
   "outputs": [
    {
     "data": {
      "image/png": "[encoded data removed]",
      "text/plain": [
       "<Figure size 432x288 with 2 Axes>"
      ]
     },
     "metadata": {},
     "output_type": "display_data"
    }
   ],
   "source": [
    "cm_lr = confusion_matrix(y_test, y_pred_l)\n",
    "\n",
    "LABELS = ['1', '2', '3', '4']\n",
    "sns.heatmap(cm_lr, annot=True, xticklabels=LABELS, yticklabels=LABELS, fmt='g')\n",
    "xl = plt.xlabel(\"Predicted\")\n",
    "yl = plt.ylabel(\"Actuals\")"
   ]
  },
  {
   "cell_type": "markdown",
   "metadata": {},
   "source": [
    "## SVM(SVC)"
   ]
  },
  {
   "cell_type": "markdown",
   "metadata": {},
   "source": [
    "A Support Vector Machine (SVM) is a discriminative classifier formally defined by a separating hyperplane. In other words, given labeled training data (supervised learning), the algorithm outputs an optimal hyperplane which categorizes new examples. In two dimentional space this hyperplane is a line dividing a plane in two parts where in each class lay in either side."
   ]
  },
  {
   "cell_type": "code",
   "execution_count": 33,
   "metadata": {},
   "outputs": [],
   "source": [
    "from sklearn.svm import SVC\n",
    "\n",
    "## Fit the classifier\n",
    "clf_s = SVC()\n",
    "clf_s.fit(X_train,y_train)\n",
    "y_pred_s = clf_s.predict(X_test)"
   ]
  },
  {
   "cell_type": "markdown",
   "metadata": {},
   "source": [
    "### Accuracy "
   ]
  },
  {
   "cell_type": "markdown",
   "metadata": {},
   "source": [
    "Testing the classification accuracy of the model\n",
    "\n",
    "Classification accuracy is the ratio of correct predictions to total predictions made"
   ]
  },
  {
   "cell_type": "code",
   "execution_count": 34,
   "metadata": {},
   "outputs": [
    {
     "name": "stdout",
     "output_type": "stream",
     "text": [
      "Classification Training Accuracy: 97.2%\n"
     ]
    }
   ],
   "source": [
    "print(\"Classification Training Accuracy:\" , \"{:.1%}\".format(clf_s.score(X_train,y_train)))"
   ]
  },
  {
   "cell_type": "code",
   "execution_count": 35,
   "metadata": {},
   "outputs": [
    {
     "name": "stdout",
     "output_type": "stream",
     "text": [
      "Classification Test Accuracy: 95.6%\n"
     ]
    }
   ],
   "source": [
    "print(\"Classification Test Accuracy:\" , \"{:.1%}\".format(clf_s.score(X_test,y_test)))"
   ]
  },
  {
   "cell_type": "markdown",
   "metadata": {},
   "source": [
    "### Classification Report"
   ]
  },
  {
   "cell_type": "markdown",
   "metadata": {},
   "source": [
    "We will fit a classification report to the model to compute precision, recall, F-measure and support for each class\n",
    "\n",
    "    * Precision: The ability of the classifier not to label as positive a sample that is negative.\n",
    "    * Recall: The ability of the classifier to find all the positive samples\n",
    "    * F1-score: The harmonic mean of precision and recall. The scores corresponding to every class indicate the accuracy of the classifier in classifying the data points in that particular class compared to all other classes.\n",
    "    * Support: The number of samples of the true response that lie in that class."
   ]
  },
  {
   "cell_type": "code",
   "execution_count": 82,
   "metadata": {},
   "outputs": [
    {
     "name": "stdout",
     "output_type": "stream",
     "text": [
      "             precision    recall  f1-score   support\n",
      "\n",
      "          1       0.99      0.99      0.99       358\n",
      "          2       0.89      0.96      0.92       116\n",
      "          3       0.80      0.57      0.67        21\n",
      "          4       0.83      0.79      0.81        24\n",
      "\n",
      "avg / total       0.95      0.96      0.95       519\n",
      "\n"
     ]
    }
   ],
   "source": [
    "cm = classification_report(y_test, y_pred_s)\n",
    "print(cm)"
   ]
  },
  {
   "cell_type": "markdown",
   "metadata": {},
   "source": [
    "### Confusion Matrix"
   ]
  },
  {
   "cell_type": "markdown",
   "metadata": {},
   "source": [
    "A confusion matrix is a summary of prediction results on a classification problem. The number of correct and incorrect predictions are summarized with count values and broken down by each class. It provides insight not only into the errors being made by the classifier but more importantly the types of errors that are being made. This breakdown helps overcome the limitation of using classification accuracy alone."
   ]
  },
  {
   "cell_type": "code",
   "execution_count": 37,
   "metadata": {},
   "outputs": [
    {
     "data": {
      "image/png": "[encoded data removed]",
      "text/plain": [
       "<Figure size 432x288 with 2 Axes>"
      ]
     },
     "metadata": {},
     "output_type": "display_data"
    }
   ],
   "source": [
    "cm_s = confusion_matrix(y_test, y_pred_s)\n",
    "\n",
    "LABELS = ['1', '2', '3', '4']\n",
    "sns.heatmap(cm_s, annot=True, xticklabels=LABELS, yticklabels=LABELS, fmt='g')\n",
    "xl = plt.xlabel(\"Predicted\")\n",
    "yl = plt.ylabel(\"Actuals\")"
   ]
  },
  {
   "cell_type": "markdown",
   "metadata": {},
   "source": [
    "## Gradient Boosting"
   ]
  },
  {
   "cell_type": "markdown",
   "metadata": {},
   "source": [
    "Gradient boosting is a machine learning technique for regression and classification problems, which produces a prediction model in the form of an ensemble of weak prediction models, typically decision trees. It builds the model in a stage-wise fashion like other boosting methods do, and it generalizes them by allowing optimization of an arbitrary differentiable loss function."
   ]
  },
  {
   "cell_type": "code",
   "execution_count": 61,
   "metadata": {},
   "outputs": [],
   "source": [
    "## Fit the classifier\n",
    "from sklearn.ensemble import GradientBoostingClassifier\n",
    "\n",
    "clf_gb = GradientBoostingClassifier(n_estimators= 300)\n",
    "clf_gb.fit(X_train,y_train)\n",
    "y_pred_gb = clf_gb.predict(X_test)"
   ]
  },
  {
   "cell_type": "markdown",
   "metadata": {},
   "source": [
    "### Accuracy "
   ]
  },
  {
   "cell_type": "markdown",
   "metadata": {},
   "source": [
    "Testing the classification accuracy of the model\n",
    "\n",
    "Classification accuracy is the ratio of correct predictions to total predictions made"
   ]
  },
  {
   "cell_type": "code",
   "execution_count": 62,
   "metadata": {},
   "outputs": [
    {
     "name": "stdout",
     "output_type": "stream",
     "text": [
      "Classification Training Accuracy: 100.0%\n"
     ]
    }
   ],
   "source": [
    "print(\"Classification Training Accuracy:\" , \"{:.1%}\".format(clf_gb.score(X_train,y_train)))"
   ]
  },
  {
   "cell_type": "code",
   "execution_count": 63,
   "metadata": {},
   "outputs": [
    {
     "name": "stdout",
     "output_type": "stream",
     "text": [
      "Classification Test Accuracy: 98.3%\n"
     ]
    }
   ],
   "source": [
    "print(\"Classification Test Accuracy:\" , \"{:.1%}\".format(clf_gb.score(X_test,y_test)))"
   ]
  },
  {
   "cell_type": "markdown",
   "metadata": {},
   "source": [
    "### Feature Importance "
   ]
  },
  {
   "cell_type": "markdown",
   "metadata": {},
   "source": [
    "Here we apply Feature Importance to the model. Feature Importance as the name suggests, provides insights on the importance of a feature in regards to the dependent variable (condition)."
   ]
  },
  {
   "cell_type": "code",
   "execution_count": 42,
   "metadata": {},
   "outputs": [
    {
     "data": {
      "text/plain": [
       "array([0.11114565, 0.11165269, 0.12803882, 0.19916998, 0.2150401 ,\n",
       "       0.23495275])"
      ]
     },
     "execution_count": 42,
     "metadata": {},
     "output_type": "execute_result"
    }
   ],
   "source": [
    "importance_gb = clf_gb.feature_importances_ \n",
    "importance_gb.sort()\n",
    "\n",
    "column_names= df.columns\n",
    "column_drop = column_names.drop('Condition')\n",
    "importance_gb"
   ]
  },
  {
   "cell_type": "code",
   "execution_count": 43,
   "metadata": {},
   "outputs": [
    {
     "data": {
      "text/plain": [
       "Text(0.5,1,'Feature Importance')"
      ]
     },
     "execution_count": 43,
     "metadata": {},
     "output_type": "execute_result"
    },
    {
     "data": {
      "image/png": "[encoded data removed]",
      "text/plain": [
       "<Figure size 432x288 with 1 Axes>"
      ]
     },
     "metadata": {},
     "output_type": "display_data"
    }
   ],
   "source": [
    "plt.bar(column_drop, importance_gb, align='center', alpha=0.5)\n",
    "plt.xlabel ('Features')\n",
    "plt.ylabel('Importance')\n",
    "plt.title('Feature Importance')"
   ]
  },
  {
   "cell_type": "markdown",
   "metadata": {},
   "source": [
    "### Classification report"
   ]
  },
  {
   "cell_type": "markdown",
   "metadata": {},
   "source": [
    "We will fit a classification report to the model to compute precision, recall, F-measure and support for each class\n",
    "\n",
    "    * Precision: The ability of the classifier not to label as positive a sample that is negative.\n",
    "    * Recall: The ability of the classifier to find all the positive samples\n",
    "    * F1-score: The harmonic mean of precision and recall. The scores corresponding to every class indicate the accuracy of the classifier in classifying the data points in that particular class compared to all other classes.\n",
    "    * Support: The number of samples of the true response that lie in that class."
   ]
  },
  {
   "cell_type": "code",
   "execution_count": 44,
   "metadata": {},
   "outputs": [
    {
     "name": "stdout",
     "output_type": "stream",
     "text": [
      "             precision    recall  f1-score   support\n",
      "\n",
      "          1       1.00      1.00      1.00       358\n",
      "          2       0.98      0.97      0.98       116\n",
      "          3       0.85      0.81      0.83        21\n",
      "          4       0.85      0.92      0.88        24\n",
      "\n",
      "avg / total       0.98      0.98      0.98       519\n",
      "\n"
     ]
    }
   ],
   "source": [
    "cm_g = classification_report(y_test, y_pred_gb)\n",
    "print(cm_g)"
   ]
  },
  {
   "cell_type": "markdown",
   "metadata": {},
   "source": [
    "### Confusion Matrix"
   ]
  },
  {
   "cell_type": "markdown",
   "metadata": {},
   "source": [
    "A confusion matrix is a summary of prediction results on a classification problem. The number of correct and incorrect predictions are summarized with count values and broken down by each class. It provides insight not only into the errors being made by the classifier but more importantly the types of errors that are being made. This breakdown helps overcome the limitation of using classification accuracy alone."
   ]
  },
  {
   "cell_type": "code",
   "execution_count": 45,
   "metadata": {},
   "outputs": [
    {
     "data": {
      "image/png": "[encoded data removed]",
      "text/plain": [
       "<Figure size 432x288 with 2 Axes>"
      ]
     },
     "metadata": {},
     "output_type": "display_data"
    }
   ],
   "source": [
    "cm_gb = confusion_matrix(y_test, y_pred_gb)\n",
    "\n",
    "LABELS = ['1', '2', '3', '4']\n",
    "sns.heatmap(cm_gb, annot=True, xticklabels=LABELS, yticklabels=LABELS, fmt='g')\n",
    "xl = plt.xlabel(\"Predicted\")\n",
    "yl = plt.ylabel(\"Actuals\")"
   ]
  },
  {
   "cell_type": "markdown",
   "metadata": {},
   "source": [
    "### HyperParameter Tuning"
   ]
  },
  {
   "cell_type": "markdown",
   "metadata": {},
   "source": [
    "Here we attempt to tune our Hyperparameters. Hyperparameter tuning is the problem of choosing a set of optimal hyperparameters for a learning algorithm. The same kind of machine learning model can require different constraints, weights or learning rates to generalize different data patterns. These measures are called hyperparameters, and have to be tuned so that the model can optimally solve the machine learning problem."
   ]
  },
  {
   "cell_type": "code",
   "execution_count": 64,
   "metadata": {},
   "outputs": [
    {
     "name": "stdout",
     "output_type": "stream",
     "text": [
      "{'max_features': 'auto', 'n_estimators': 500}\n"
     ]
    }
   ],
   "source": [
    "from sklearn.model_selection import GridSearchCV\n",
    "\n",
    "param_grid = {\n",
    "                'n_estimators': [100, 200, 300, 400, 500], \n",
    "                'max_features': ['auto', None, 'log2']    \n",
    "              }\n",
    "\n",
    "gb_clf = GridSearchCV(GradientBoostingClassifier(random_state=42), param_grid, cv=5,\n",
    "                       scoring='accuracy')\n",
    "gb_clf.fit(X_train, y_train)\n",
    "print(gb_clf.best_params_)"
   ]
  },
  {
   "cell_type": "code",
   "execution_count": 76,
   "metadata": {},
   "outputs": [],
   "source": [
    "## Refit the classifier with updated parameters \n",
    "clf_update_gb = RandomForestClassifier(n_estimators=500)\n",
    "clf_update_gb.fit(X_train,y_train)\n",
    "y_pred = clf_update_gb.predict(X_test)"
   ]
  },
  {
   "cell_type": "markdown",
   "metadata": {},
   "source": [
    "### Testing HyperParameter Variables"
   ]
  },
  {
   "cell_type": "code",
   "execution_count": 77,
   "metadata": {},
   "outputs": [
    {
     "name": "stdout",
     "output_type": "stream",
     "text": [
      "Classification Training Accuracy: 100.0%\n"
     ]
    }
   ],
   "source": [
    "print(\"Classification Training Accuracy:\" , \"{:.1%}\".format(clf_update_gb.score(X_train,y_train)))"
   ]
  },
  {
   "cell_type": "code",
   "execution_count": 78,
   "metadata": {},
   "outputs": [
    {
     "name": "stdout",
     "output_type": "stream",
     "text": [
      "Classification Test Accuracy: 98.1%\n"
     ]
    }
   ],
   "source": [
    "print(\"Classification Test Accuracy:\" , \"{:.1%}\".format(clf_update_gb.score(X_test,y_test)))"
   ]
  },
  {
   "cell_type": "markdown",
   "metadata": {},
   "source": [
    "Fine tuning the parameters results in a slight decrease in accuracy. We will reject these updated parameters and use the original parameters"
   ]
  },
  {
   "cell_type": "markdown",
   "metadata": {},
   "source": [
    "## Random Forests Classifier "
   ]
  },
  {
   "cell_type": "markdown",
   "metadata": {},
   "source": [
    "Random forests are an ensemble learning method for classification, regression and other tasks that operates by constructing a multitude of decision trees at training time and outputting the class that is the mode of the classes (classification) or mean prediction (regression) of the individual trees.Random decision forests correct for decision trees' habit of overfitting to their training set."
   ]
  },
  {
   "cell_type": "code",
   "execution_count": 47,
   "metadata": {},
   "outputs": [],
   "source": [
    "from sklearn.ensemble import RandomForestClassifier\n",
    "\n",
    "## Fit the classifier\n",
    "clf = RandomForestClassifier(n_estimators=500)\n",
    "clf.fit(X_train,y_train)\n",
    "y_pred = clf.predict(X_test)"
   ]
  },
  {
   "cell_type": "code",
   "execution_count": 48,
   "metadata": {},
   "outputs": [],
   "source": [
    "## Check fraction of values in test and train (Ask Counselor)"
   ]
  },
  {
   "cell_type": "markdown",
   "metadata": {},
   "source": [
    "### Feature Importance"
   ]
  },
  {
   "cell_type": "markdown",
   "metadata": {},
   "source": [
    "Here we apply Feature Importance to the model. Feature Importance as the name suggests, provides insights on the importance of a feature in regards to the dependent variable (condition)."
   ]
  },
  {
   "cell_type": "code",
   "execution_count": 49,
   "metadata": {},
   "outputs": [],
   "source": [
    "importance = clf.feature_importances_ \n",
    "importance.sort()\n",
    "\n",
    "column_names= df.columns\n",
    "column_drop = column_names.drop('Condition')\n"
   ]
  },
  {
   "cell_type": "code",
   "execution_count": 50,
   "metadata": {},
   "outputs": [
    {
     "data": {
      "text/plain": [
       "Text(0.5,1,'Feature Importance')"
      ]
     },
     "execution_count": 50,
     "metadata": {},
     "output_type": "execute_result"
    },
    {
     "data": {
      "image/png": "[encoded data removed]",
      "text/plain": [
       "<Figure size 432x288 with 1 Axes>"
      ]
     },
     "metadata": {},
     "output_type": "display_data"
    }
   ],
   "source": [
    "plt.bar(column_drop, importance, align='center', alpha=0.5)\n",
    "plt.xlabel ('Features')\n",
    "plt.ylabel('Importance')\n",
    "plt.title('Feature Importance')"
   ]
  },
  {
   "cell_type": "markdown",
   "metadata": {},
   "source": [
    "### Accuracy "
   ]
  },
  {
   "cell_type": "markdown",
   "metadata": {},
   "source": [
    "Testing the classification accuracy of the model\n",
    "\n",
    "Classification accuracy is the ratio of correct predictions to total predictions made"
   ]
  },
  {
   "cell_type": "code",
   "execution_count": 51,
   "metadata": {},
   "outputs": [
    {
     "name": "stdout",
     "output_type": "stream",
     "text": [
      "Classification Training Accuracy: 100.0%\n"
     ]
    }
   ],
   "source": [
    "print(\"Classification Training Accuracy:\" , \"{:.1%}\".format(clf.score(X_train,y_train)))"
   ]
  },
  {
   "cell_type": "code",
   "execution_count": 52,
   "metadata": {},
   "outputs": [
    {
     "name": "stdout",
     "output_type": "stream",
     "text": [
      "Classification Testing Accuracy: 97.9%\n"
     ]
    }
   ],
   "source": [
    "print(\"Classification Testing Accuracy:\" , \"{:.1%}\".format(clf.score(X_test,y_test)))"
   ]
  },
  {
   "cell_type": "markdown",
   "metadata": {},
   "source": [
    "### Classification Report"
   ]
  },
  {
   "cell_type": "markdown",
   "metadata": {},
   "source": [
    "We will fit a classification report to the model to compute precision, recall, F-measure and support for each class\n",
    "\n",
    "    * Precision: The ability of the classifier not to label as positive a sample that is negative\n",
    "    * Recall: The ability of the classifier to find all the positive samples\n",
    "    * F1-score: The harmonic mean of precision and recall. The scores corresponding to every class indicate the accuracy of the classifier in classifying the data points in that particular class compared to all other classes\n",
    "    * Support: The number of samples of the true response that lie in that class"
   ]
  },
  {
   "cell_type": "code",
   "execution_count": 83,
   "metadata": {},
   "outputs": [
    {
     "name": "stdout",
     "output_type": "stream",
     "text": [
      "             precision    recall  f1-score   support\n",
      "\n",
      "          1       0.99      1.00      1.00       358\n",
      "          2       0.97      0.97      0.97       116\n",
      "          3       0.94      0.76      0.84        21\n",
      "          4       0.88      0.92      0.90        24\n",
      "\n",
      "avg / total       0.98      0.98      0.98       519\n",
      "\n"
     ]
    }
   ],
   "source": [
    "cm = classification_report(y_test, y_pred)\n",
    "print(cm)"
   ]
  },
  {
   "cell_type": "markdown",
   "metadata": {},
   "source": [
    "### Confusion Matrix"
   ]
  },
  {
   "cell_type": "markdown",
   "metadata": {},
   "source": [
    "A confusion matrix is a summary of prediction results on a classification problem. The number of correct and incorrect predictions are summarized with count values and broken down by each class. It provides insight not only into the errors being made by the classifier but more importantly the types of errors that are being made. This breakdown helps overcome the limitation of using classification accuracy alone."
   ]
  },
  {
   "cell_type": "code",
   "execution_count": 54,
   "metadata": {},
   "outputs": [
    {
     "data": {
      "image/png": "[encoded data removed]",
      "text/plain": [
       "<Figure size 432x288 with 2 Axes>"
      ]
     },
     "metadata": {},
     "output_type": "display_data"
    }
   ],
   "source": [
    "## Confusion Matrix\n",
    "cm_ = confusion_matrix(y_test, y_pred)\n",
    "\n",
    "LABELS = ['1', '2', '3', '4']\n",
    "sns.heatmap(cm_, annot=True, xticklabels=LABELS, yticklabels=LABELS, fmt='g')\n",
    "xl = plt.xlabel(\"Predicted\")\n",
    "yl = plt.ylabel(\"Actuals\")"
   ]
  },
  {
   "cell_type": "markdown",
   "metadata": {},
   "source": [
    "### HyperParameter Tuning"
   ]
  },
  {
   "cell_type": "markdown",
   "metadata": {},
   "source": [
    "Here we attempt to tune our Hyperparameters. Hyperparameter tuning is the problem of choosing a set of optimal hyperparameters for a learning algorithm. The same kind of machine learning model can require different constraints, weights or learning rates to generalize different data patterns. These measures are called hyperparameters, and have to be tuned so that the model can optimally solve the machine learning problem."
   ]
  },
  {
   "cell_type": "code",
   "execution_count": 65,
   "metadata": {},
   "outputs": [
    {
     "name": "stdout",
     "output_type": "stream",
     "text": [
      "{'max_features': None, 'n_estimators': 750}\n"
     ]
    }
   ],
   "source": [
    "from sklearn.model_selection import GridSearchCV\n",
    "\n",
    "param_grid = {\n",
    "                'n_estimators': [500, 750, 1000, 1250, 1500], \n",
    "                'max_features': ['auto', None, 'log2']    \n",
    "              }\n",
    "\n",
    "wqp_clf = GridSearchCV(RandomForestClassifier(random_state=42), param_grid, cv=5,\n",
    "                       scoring='accuracy')\n",
    "wqp_clf.fit(X_train, y_train)\n",
    "print(wqp_clf.best_params_)"
   ]
  },
  {
   "cell_type": "code",
   "execution_count": 66,
   "metadata": {},
   "outputs": [],
   "source": [
    "## Refit the classifier with updated parameters \n",
    "clf_update_rf = RandomForestClassifier(n_estimators=400)\n",
    "clf_update_rf.fit(X_train,y_train)\n",
    "y_pred = clf_update_rf.predict(X_test)"
   ]
  },
  {
   "cell_type": "markdown",
   "metadata": {},
   "source": [
    "### Testing HyperParameter Variables"
   ]
  },
  {
   "cell_type": "code",
   "execution_count": 68,
   "metadata": {},
   "outputs": [
    {
     "name": "stdout",
     "output_type": "stream",
     "text": [
      "Classification Training Accuracy: 100.0%\n"
     ]
    }
   ],
   "source": [
    "print(\"Classification Training Accuracy:\" , \"{:.1%}\".format(clf_update_rf.score(X_train,y_train)))"
   ]
  },
  {
   "cell_type": "code",
   "execution_count": 69,
   "metadata": {},
   "outputs": [
    {
     "name": "stdout",
     "output_type": "stream",
     "text": [
      "Classification Testing Accuracy: 97.7%\n"
     ]
    }
   ],
   "source": [
    "print(\"Classification Testing Accuracy:\" , \"{:.1%}\".format(clf_update_rf.score(X_test,y_test)))"
   ]
  },
  {
   "cell_type": "markdown",
   "metadata": {},
   "source": [
    "Updated parameters show a decrease in Testing Accuracy. We will ignore there parameters and use the original parameters"
   ]
  },
  {
   "cell_type": "markdown",
   "metadata": {},
   "source": [
    "# Conclusion "
   ]
  },
  {
   "cell_type": "markdown",
   "metadata": {},
   "source": [
    "### Insights"
   ]
  },
  {
   "cell_type": "markdown",
   "metadata": {},
   "source": [
    "By testing a wide array of models and features, we have derived numerous key insights that stakeholders may be interested in"
   ]
  },
  {
   "cell_type": "markdown",
   "metadata": {},
   "source": [
    "Model Performance:\n",
    "\n",
    "    * Logistic Regression:\n",
    "        * Train Accuracy: 80.5%\n",
    "        * Test Accuracy: 79.4%\n",
    "        * F1 Score: 0.77\n",
    "        \n",
    "    * SVM(SVC): \n",
    "        * Train Accuracy: 97.2%\n",
    "        * Test Accuracy: 95.6%\n",
    "        * F1 Score: 0.95\n",
    "        \n",
    "    * Gradiant Boosting:\n",
    "        * Train Accuracy: 100.0%\n",
    "        * Test Accuracy: 98.3%\n",
    "        * F1 Score: 0.98\n",
    "        \n",
    "     * Random Forest:\n",
    "        * Train Accuracy: 100.0%\n",
    "        * Test Accuracy: 97.9%\n",
    "        * F1 Score: 0.98\n",
    "        \n",
    " Feature Performance:\n",
    "     \n",
    "     * Most important feature:\n",
    "         * Safety\n",
    "     * Least important feature:\n",
    "         * Buying Price"
   ]
  },
  {
   "cell_type": "markdown",
   "metadata": {},
   "source": [
    "The overall safety of a vehicle proved to be the best predictor variable for evaluating the condition of a car. This could be attributed to the fact that safer cars would most likely have a solid build quality and stronger body structure than vehicles that were deemed unsafe. It is also important to note that buying price and maintenance seemed to have little importance in determining the condition of a vehicle. This could be because money in this context is relatively arbitrary. For example, $20,000 could buy a 2018 pre-owned Toyota Corolla which would be assumed to be in much better condition then a similarly priced 2003 BWM 7 Series.\n",
    "\n",
    "In regards to creating a predictive model, decision tree based models such as Gradiant Boosting and Random Forest seemed to have yielded the best results. This is because rather then single (or base) decision tree modes, which have an inherent problem of overfitting where the model might perform very well on the training data, but don't generalize well enough to perform well on the test data. Ensemble models like gradient boosting or random forest, use several decision trees to learn from the training data. Hence, if you had a mock election and took a lot of democratic-leaning polls and a bunch of republican-leaning polls and you averaged them together, you would get an average that isn't leaning either way.\n"
   ]
  },
  {
   "cell_type": "markdown",
   "metadata": {},
   "source": [
    "### Limitations"
   ]
  },
  {
   "cell_type": "markdown",
   "metadata": {},
   "source": [
    "There were several limitations that impeded further progress in this project.\n",
    "\n",
    "The dataset being categorical in nature hindered the real world practicality of the model. The data seems to have blanketed vehicles across every price range, make/model, and year which I think creates a severe bias within the dataset. I think that there are many important features that would better help predict the condition of car that were missing from this data set i.e., make, model, year, mileage, number of owners, type of vehicle. Even variables like color of the car, and initial buying price would have been interesting to work with. \n",
    "\n",
    "The description of features are also rather vague. For example buying price can be interpreted as original buying price (price of the car when new) or the buying price of the car in its present form. \n",
    "\n",
    "In regards to the modeling, data wrangling,and inferential statistics,  there was limitation in what could be done because of  the data being categorical. While converting the variables to numeric values helped, not having continuous features created limitations especially in regards to features like Buy_Price and Maint_Price."
   ]
  },
  {
   "cell_type": "markdown",
   "metadata": {},
   "source": [
    "### Next Steps"
   ]
  },
  {
   "cell_type": "markdown",
   "metadata": {},
   "source": [
    "This project has the ability to provide consumers and stakeholders alike with real world value, by converting half of the features into continuous variables and adding many other features (make, model, year, mileage, number of owners, type of vehicle). This would allow stakeholders to predict the exact condition of a vehicle and tailor it to very specific products. For a company like KBB these kind of insights could provide customers with even more value and information when purchasing/researching a vehicle. Another idea could be to incorporate other datasets available that would have more information on used cars."
   ]
  }
 ],
 "metadata": {
  "kernelspec": {
   "display_name": "Python 3",
   "language": "python",
   "name": "python3"
  },
  "language_info": {
   "codemirror_mode": {
    "name": "ipython",
    "version": 3
   },
   "file_extension": ".py",
   "mimetype": "text/x-python",
   "name": "python",
   "nbconvert_exporter": "python",
   "pygments_lexer": "ipython3",
   "version": "3.6.5"
  },
  "toc": {
   "base_numbering": 1,
   "nav_menu": {},
   "number_sections": false,
   "sideBar": true,
   "skip_h1_title": false,
   "title_cell": "Table of Contents",
   "title_sidebar": "Contents",
   "toc_cell": true,
   "toc_position": {
    "height": "calc(100% - 180px)",
    "left": "10px",
    "top": "150px",
    "width": "286px"
   },
   "toc_section_display": true,
   "toc_window_display": false
  }
 },
 "nbformat": 4,
 "nbformat_minor": 2
}
